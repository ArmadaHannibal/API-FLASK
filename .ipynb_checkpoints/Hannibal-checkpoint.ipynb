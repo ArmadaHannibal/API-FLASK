{
 "cells": [
  {
   "cell_type": "markdown",
   "id": "bc609124-cca1-4634-821b-f1aa916348eb",
   "metadata": {},
   "source": [
    "# Mon 1ier Notebook 2024\n",
    "\n"
   ]
  },
  {
   "cell_type": "code",
   "execution_count": 2,
   "id": "4e5e2e69-fe4d-408d-96e8-8b4a07ffaa76",
   "metadata": {},
   "outputs": [
    {
     "name": "stdout",
     "output_type": "stream",
     "text": [
      "Choisissez une opération :\n",
      "1. Affichage aleatoires\n",
      "2. Addition aleatoires\n"
     ]
    },
    {
     "name": "stdin",
     "output_type": "stream",
     "text": [
      "Entrez le numéro de l'opération :  2\n"
     ]
    },
    {
     "name": "stdout",
     "output_type": "stream",
     "text": [
      "Remplissez la liste (appuyez sur Entrée pour terminer) :\n"
     ]
    },
    {
     "name": "stdin",
     "output_type": "stream",
     "text": [
      "Entrez une valeur :  4\n",
      "Entrez une valeur :  5\n",
      "Entrez une valeur :  7\n",
      "Entrez une valeur :  8\n",
      "Entrez une valeur :  10\n",
      "Entrez une valeur :  \n",
      "Entrez une valeur minimale:  1\n",
      "Entrez une valeur maximale:  6\n"
     ]
    },
    {
     "name": "stdout",
     "output_type": "stream",
     "text": [
      "[['4', '5', '7', '8', '10']]\n",
      "[{'valeur 1 : ': '7', 'valeur 2 : ': '7', 'resultat : ': '77'}]\n"
     ]
    }
   ],
   "source": [
    "import random; \n",
    "\n",
    "dictionnaire = {\n",
    "    'name' : 'HAMD', \n",
    "    2 : 4, \n",
    "    3 : [1, 2, 5]\n",
    "};\n",
    "for key in dictionnaire : \n",
    "    valeur = dictionnaire[key]\n",
    "    # print(valeur);\n",
    "\n",
    "def sommes (a, b, c) :\n",
    "    resultat = a + b + c;\n",
    "    return resultat;\n",
    "\n",
    "def sommealeatoires (a, b) :\n",
    "    aleatoiresnb1 = random.randint(1, a);\n",
    "    aleatoiresnb2 = random.randint(1, b);\n",
    "    value = aleatoiresnb1 + aleatoiresnb2;\n",
    "    return value;\n",
    "\n",
    "def listaleatoires (array) :\n",
    "    if not array : \n",
    "        print('Tableau vide !');\n",
    "    else :\n",
    "        valeur_aleatoire = random.choice(ma_liste)\n",
    "        return valeur_aleatoire\n",
    "\n",
    "def operation_aleatoire(booleen, liste, mini, maxi):\n",
    "    if booleen == '1' :\n",
    "        if not liste : \n",
    "            print('Tableau vide !');\n",
    "        else :\n",
    "            valeur_aleatoire = random.choice(liste)\n",
    "            return valeur_aleatoire\n",
    "    elif booleen == '2' : \n",
    "        if not liste : \n",
    "            print('Tableau vide !');\n",
    "        else :\n",
    "            index_max = len(liste) - 1\n",
    "            if index_max == maxi : \n",
    "                aleatoiresnb1 = random.randint(mini, maxi);\n",
    "                aleatoiresnb2 = random.randint(mini, maxi);\n",
    "                resultat = {\n",
    "                    'valeur 1 : ' : aleatoiresnb1,\n",
    "                    'valeur 2 : ' : aleatoiresnb2,\n",
    "                    'resultat : ' : int(aleatoiresnb1) + int(aleatoiresnb2)\n",
    "                }\n",
    "                return resultat\n",
    "            elif index_max != maxi :\n",
    "                aleatoiresnb1 = liste[random.randint(mini, index_max)];\n",
    "                aleatoiresnb2 = liste[random.randint(mini, index_max)];\n",
    "                resultat = {\n",
    "                    'valeur 1 : ' : aleatoiresnb1,\n",
    "                    'valeur 2 : ' : aleatoiresnb2,\n",
    "                    'resultat : ' : int(aleatoiresnb1) + int(aleatoiresnb2)\n",
    "                }\n",
    "                return resultat\n",
    "\n",
    "ma_liste = []\n",
    "\n",
    "# print(\"Remplissez la liste (appuyez sur Entrée pour terminer) :\")\n",
    "# while True:\n",
    "#     valeur = input(\"Entrez une valeur : \")\n",
    "#     if valeur == \"\":\n",
    "#         break \n",
    "#     else:\n",
    "#         ma_liste.append(valeur)\n",
    "\n",
    "# print(\"Liste remplie :\", ma_liste)\n",
    "\n",
    "# valeur_aleatoire = listaleatoires(ma_liste)\n",
    "# print(\"Valeur aléatoire dans la liste :\", valeur_aleatoire)\n",
    "\n",
    "# nb1 = int(input(\"Entrez le premier nombre : \"))\n",
    "# nb2 = int(input(\"Entrez le deuxième nombre : \"))\n",
    "# nb3 = float(input(\"Entrez le troisième nombre : \"))\n",
    "\n",
    "# result = sommes(nb1, nb2, nb3);\n",
    "# resultaleatoires = sommealeatoires(nb1, nb2)\n",
    "# print ([result]);\n",
    "# print ('resultaleatoires');\n",
    "# print ([resultaleatoires]);\n",
    "\n",
    "# print (dictionnaire[3])\n",
    "\n",
    "print(\"Choisissez une opération :\")\n",
    "print(\"1. Affichage aleatoires\")\n",
    "print(\"2. Addition aleatoires\")\n",
    "\n",
    "choix = input(\"Entrez le numéro de l'opération : \")\n",
    "\n",
    "if choix == '1':\n",
    "    print(\"Remplissez la liste (appuyez sur Entrée pour terminer) :\")\n",
    "    while True:\n",
    "        valeur = input(\"Entrez une valeur : \")\n",
    "        if valeur == \"\":\n",
    "            break \n",
    "        else:\n",
    "            ma_liste.append(valeur)\n",
    "    print([ma_liste])\n",
    "    operation = operation_aleatoire(choix, ma_liste, 0, 0);\n",
    "    print([operation])\n",
    "elif choix == '2':\n",
    "    print(\"Remplissez la liste (appuyez sur Entrée pour terminer) :\")\n",
    "    while True:\n",
    "        valeur = input(\"Entrez une valeur : \")\n",
    "        if valeur == \"\":\n",
    "            break \n",
    "        else:\n",
    "            ma_liste.append(valeur)\n",
    "    \n",
    "    mini = int(input(\"Entrez une valeur minimale: \"))\n",
    "    maxi = int(input(\"Entrez une valeur maximale: \"))\n",
    "    print([ma_liste])\n",
    "    operation = operation_aleatoire(choix, ma_liste, mini, maxi);\n",
    "    print([operation])\n",
    "else:\n",
    "    print(\"Choix invalide. Veuillez entrer un numéro valide.\")"
   ]
  },
  {
   "cell_type": "code",
   "execution_count": null,
   "id": "d9ef953e-105b-41a2-8c86-91a057e35a4f",
   "metadata": {},
   "outputs": [],
   "source": []
  }
 ],
 "metadata": {
  "kernelspec": {
   "display_name": "Python 3 (ipykernel)",
   "language": "python",
   "name": "python3"
  },
  "language_info": {
   "codemirror_mode": {
    "name": "ipython",
    "version": 3
   },
   "file_extension": ".py",
   "mimetype": "text/x-python",
   "name": "python",
   "nbconvert_exporter": "python",
   "pygments_lexer": "ipython3",
   "version": "3.11.9"
  }
 },
 "nbformat": 4,
 "nbformat_minor": 5
}
